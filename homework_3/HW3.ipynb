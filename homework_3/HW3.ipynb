{
 "cells": [
  {
   "cell_type": "code",
   "execution_count": null,
   "id": "52b033a3",
   "metadata": {},
   "outputs": [],
   "source": [
    "# ANDREW JOYNER\n",
    "# 801293231\n",
    "# HOMEWORK 3"
   ]
  },
  {
   "cell_type": "code",
   "execution_count": null,
   "id": "6858e768",
   "metadata": {},
   "outputs": [],
   "source": [
    "import numpy as np\n",
    "import matplotlib.pyplot as plt\n",
    "import pandas as pd\n",
    "from sklearn.model_selection import train_test_split\n",
    "from sklearn.preprocessing import StandardScaler\n",
    "from sklearn.linear_model import LogisticRegression\n",
    "from sklearn.metrics import accuracy_score, precision_score, recall_score, f1_score, confusion_matrix, ConfusionMatrixDisplay\n",
    "import warnings\n",
    "warnings.filterwarnings('ignore')"
   ]
  },
  {
   "cell_type": "code",
   "execution_count": null,
   "id": "ad4a228c",
   "metadata": {},
   "outputs": [],
   "source": [
    "## Problem 1: Logistic Regression Binary Classifier for Diabetes Dataset"
   ]
  },
  {
   "cell_type": "code",
   "execution_count": null,
   "id": "382d4390",
   "metadata": {},
   "outputs": [],
   "source": [
    "### Step 1: Load the Diabetes Dataset"
   ]
  },
  {
   "cell_type": "code",
   "execution_count": null,
   "id": "5e56a335",
   "metadata": {},
   "outputs": [],
   "source": [
    "url = \"https://raw.githubusercontent.com/HamedTabkhi/Intro-to-ML/main/Dataset/diabetes.csv\"\n",
    "df = pd.read_csv(url)\n",
    "display(df.head())"
   ]
  },
  {
   "cell_type": "code",
   "execution_count": null,
   "id": "c6e48ec7",
   "metadata": {},
   "outputs": [],
   "source": [
    "### Step 2: Prepare the Data (Features and Target)"
   ]
  },
  {
   "cell_type": "code",
   "execution_count": null,
   "id": "b4cde7bb",
   "metadata": {},
   "outputs": [],
   "source": [
    "# Separate features and target\n",
    "X = df.drop('Outcome', axis=1)\n",
    "y = df['Outcome']\n",
    "\n",
    "print(f\"Features shape: {X.shape}\")\n",
    "print(f\"Target shape: {y.shape}\")"
   ]
  },
  {
   "cell_type": "code",
   "execution_count": null,
   "id": "17c309f1",
   "metadata": {},
   "outputs": [],
   "source": [
    "### Step 3: Split the Data (80% Training, 20% Test)"
   ]
  },
  {
   "cell_type": "code",
   "execution_count": null,
   "id": "e9f962f2",
   "metadata": {},
   "outputs": [],
   "source": [
    "X_train, X_test, y_train, y_test = train_test_split(X, y, test_size=0.2, random_state=42, stratify=y)\n",
    "\n",
    "print(f\"Training set size: {X_train.shape[0]} samples\")\n",
    "print(f\"Test set size: {X_test.shape[0]} samples\")\n",
    "print(f\"\\nTraining set class distribution:\\n{y_train.value_counts()}\")\n",
    "print(f\"\\nTest set class distribution:\\n{y_test.value_counts()}\")"
   ]
  },
  {
   "cell_type": "code",
   "execution_count": null,
   "id": "c5e50b4e",
   "metadata": {},
   "outputs": [],
   "source": [
    "### Step 4: Scaling and Standardization"
   ]
  },
  {
   "cell_type": "code",
   "execution_count": null,
   "id": "05f1a7c7",
   "metadata": {},
   "outputs": [],
   "source": [
    "# Standardize features using StandardScaler\n",
    "scaler = StandardScaler()\n",
    "X_train_scaled = scaler.fit_transform(X_train)\n",
    "X_test_scaled = scaler.transform(X_test)\n",
    "\n",
    "print(\"Data standardized successfully!\")\n",
    "print(f\"Training data mean: {X_train_scaled.mean():.6f}\")\n",
    "print(f\"Training data std: {X_train_scaled.std():.6f}\")"
   ]
  },
  {
   "cell_type": "markdown",
   "id": "77976b57",
   "metadata": {},
   "source": [
    "### Step 5: Train Logistic Regression Model with Verbose Output"
   ]
  },
  {
   "cell_type": "code",
   "execution_count": null,
   "id": "beb78a3f",
   "metadata": {},
   "outputs": [],
   "source": [
    "# Train logistic regression with verbose output to track iterations\n",
    "model = LogisticRegression(max_iter=1000, random_state=42, verbose=1, solver='lbfgs')\n",
    "model.fit(X_train_scaled, y_train)\n",
    "\n",
    "print(\"\\nModel training completed!\")\n",
    "\n",
    "# Make predictions on test set using the trained logistic regression model\n",
    "y_pred = model.predict(X_test_scaled)"
   ]
  },
  {
   "cell_type": "code",
   "execution_count": null,
   "id": "272e1183",
   "metadata": {},
   "outputs": [],
   "source": [
    "# Calculate and plot confusion matrix\n",
    "cm = confusion_matrix(y_test, y_pred)\n",
    "\n",
    "# Create figure\n",
    "fig, ax = plt.subplots(figsize=(8, 6))\n",
    "disp = ConfusionMatrixDisplay(confusion_matrix=cm, display_labels=['No Diabetes (0)', 'Diabetes (1)'])\n",
    "disp.plot(cmap='Blues', ax=ax, values_format='d')\n",
    "ax.set_title('Confusion Matrix for Diabetes Binary Classifier', fontsize=14, fontweight='bold', pad=20)\n",
    "ax.set_xlabel('Predicted Label', fontsize=12)\n",
    "ax.set_ylabel('True Label', fontsize=12)\n",
    "plt.tight_layout()\n",
    "plt.show()\n",
    "\n",
    "# Print confusion matrix details\n",
    "print(\"\\nConfusion Matrix Analysis:\")\n",
    "print(\"=\"*60)\n",
    "print(f\"True Negatives (TN):  {cm[0, 0]:3d} - Correctly predicted No Diabetes\")\n",
    "print(f\"False Positives (FP): {cm[0, 1]:3d} - Incorrectly predicted Diabetes\")\n",
    "print(f\"False Negatives (FN): {cm[1, 0]:3d} - Incorrectly predicted No Diabetes\")\n",
    "print(f\"True Positives (TP):  {cm[1, 1]:3d} - Correctly predicted Diabetes\")\n",
    "print(\"=\"*60)"
   ]
  },
  {
   "cell_type": "markdown",
   "id": "a38a08a2",
   "metadata": {},
   "source": [
    "### Step 10: Plot Confusion Matrix"
   ]
  },
  {
   "cell_type": "code",
   "execution_count": null,
   "id": "e43ab338",
   "metadata": {},
   "outputs": [],
   "source": [
    "# Calculate evaluation metrics\n",
    "accuracy = accuracy_score(y_test, y_pred)\n",
    "precision = precision_score(y_test, y_pred)\n",
    "recall = recall_score(y_test, y_pred)\n",
    "f1 = f1_score(y_test, y_pred)\n",
    "\n",
    "print(\"=\"*60)\n",
    "print(\"MODEL EVALUATION RESULTS\")\n",
    "print(\"=\"*60)\n",
    "print(f\"Accuracy:  {accuracy:.4f} ({accuracy*100:.2f}%)\")\n",
    "print(f\"Precision: {precision:.4f} ({precision*100:.2f}%)\")\n",
    "print(f\"Recall:    {recall:.4f} ({recall*100:.2f}%)\")\n",
    "print(f\"F1 Score:  {f1:.4f} ({f1*100:.2f}%)\")\n",
    "print(\"=\"*60)\n",
    "\n",
    "# Additional interpretation\n",
    "print(\"\\nInterpretation:\")\n",
    "print(f\"- Out of 100 predictions, approximately {int(accuracy*100)} are correct\")\n",
    "print(f\"- Out of 100 positive predictions, approximately {int(precision*100)} are true positives\")\n",
    "print(f\"- Out of 100 actual positive cases, approximately {int(recall*100)} are correctly identified\")"
   ]
  },
  {
   "cell_type": "markdown",
   "id": "a54fbc21",
   "metadata": {},
   "source": [
    "### Step 9: Evaluate Model Performance (Accuracy, Precision, Recall, F1 Score)"
   ]
  },
  {
   "cell_type": "code",
   "execution_count": null,
   "id": "f9a4ea54",
   "metadata": {},
   "outputs": [],
   "source": [
    "# Make predictions on test set using the trained SGD model\n",
    "from sklearn.linear_model import SGDClassifier\n",
    "sgd_model = SGDClassifier(loss='log_loss', max_iter=1000, random_state=42)\n",
    "sgd_model.fit(X_train_scaled, y_train)\n",
    "y_pred = sgd_model.predict(X_test_scaled)\n",
    "\n",
    "print(\"Predictions completed!\")\n",
    "print(f\"Sample predictions (first 10): {y_pred[:10]}\")\n",
    "print(f\"Actual values (first 10): {y_test.values[:10]}\")"
   ]
  },
  {
   "cell_type": "markdown",
   "id": "4acac77c",
   "metadata": {},
   "source": [
    "### Step 8: Make Predictions on Test Set"
   ]
  },
  {
   "cell_type": "code",
   "execution_count": null,
   "id": "ac826214",
   "metadata": {},
   "outputs": [],
   "source": [
    "# Plot loss and accuracy over iterations\n",
    "import matplotlib.pyplot as plt\n",
    "from sklearn.linear_model import SGDClassifier\n",
    "from sklearn.metrics import log_loss, accuracy_score\n",
    "import numpy as np\n",
    "\n",
    "# Initialize and train SGDClassifier with tracking\n",
    "sgd_model = SGDClassifier(loss='log_loss', max_iter=1, warm_start=True, random_state=42, learning_rate='optimal', tol=None)\n",
    "\n",
    "iterations = []\n",
    "train_losses = []\n",
    "train_accuracies = []\n",
    "test_accuracies = []\n",
    "\n",
    "n_iterations = 100\n",
    "\n",
    "for i in range(n_iterations):\n",
    "    sgd_model.fit(X_train_scaled, y_train)\n",
    "    \n",
    "    # Predictions for training and test sets\n",
    "    y_train_pred = sgd_model.predict(X_train_scaled)\n",
    "    y_test_pred = sgd_model.predict(X_test_scaled)\n",
    "    \n",
    "    # Calculate metrics\n",
    "    y_train_proba = sgd_model.predict_proba(X_train_scaled)\n",
    "    train_loss = log_loss(y_train, y_train_proba)\n",
    "    train_acc = accuracy_score(y_train, y_train_pred)\n",
    "    test_acc = accuracy_score(y_test, y_test_pred)\n",
    "    \n",
    "    # Store metrics\n",
    "    iterations.append(i + 1)\n",
    "    train_losses.append(train_loss)\n",
    "    train_accuracies.append(train_acc)\n",
    "    test_accuracies.append(test_acc)\n",
    "    \n",
    "    if (i + 1) % 20 == 0:\n",
    "        print(f\"Iteration {i+1}: Train Loss = {train_loss:.4f}, Train Acc = {train_acc:.4f}, Test Acc = {test_acc:.4f}\")\n",
    "\n",
    "print(\"\\nTraining completed!\")\n",
    "\n",
    "fig, (ax1, ax2) = plt.subplots(1, 2, figsize=(14, 5))\n",
    "\n",
    "# Plot training loss\n",
    "ax1.plot(iterations, train_losses, 'b-', linewidth=2, label='Training Loss')\n",
    "ax1.set_xlabel('Iteration', fontsize=12)\n",
    "ax1.set_ylabel('Loss', fontsize=12)\n",
    "ax1.set_title('Training Loss over Iterations', fontsize=14, fontweight='bold')\n",
    "ax1.grid(True, alpha=0.3)\n",
    "ax1.legend()\n",
    "\n",
    "# Plot training and test accuracy\n",
    "ax2.plot(iterations, train_accuracies, 'g-', linewidth=2, label='Training Accuracy')\n",
    "ax2.plot(iterations, test_accuracies, 'r--', linewidth=2, label='Test Accuracy')\n",
    "ax2.set_xlabel('Iteration', fontsize=12)\n",
    "ax2.set_ylabel('Accuracy', fontsize=12)\n",
    "ax2.set_title('Classification Accuracy over Iterations', fontsize=14, fontweight='bold')\n",
    "ax2.grid(True, alpha=0.3)\n",
    "ax2.legend()\n",
    "\n",
    "plt.tight_layout()\n",
    "plt.show()\n",
    "\n",
    "print(f\"Final Training Accuracy: {train_accuracies[-1]:.4f}\")\n",
    "print(f\"Final Test Accuracy: {test_accuracies[-1]:.4f}\")"
   ]
  },
  {
   "cell_type": "markdown",
   "id": "76c5addb",
   "metadata": {},
   "source": [
    "### Step 7: Plot Training Results (Loss and Accuracy over Iterations)"
   ]
  },
  {
   "cell_type": "code",
   "execution_count": null,
   "id": "9f87bf5d",
   "metadata": {},
   "outputs": [],
   "source": [
    "# Custom training loop to track loss and accuracy over iterations\n",
    "from sklearn.linear_model import SGDClassifier\n",
    "from sklearn.metrics import log_loss\n",
    "\n",
    "# Use SGDClassifier for iterative training to track progress\n",
    "sgd_model = SGDClassifier(loss='log_loss', max_iter=1, warm_start=True, random_state=42, \n",
    "                          learning_rate='optimal', tol=None)\n",
    "\n",
    "# Track metrics over iterations\n",
    "iterations = []\n",
    "train_losses = []\n",
    "train_accuracies = []\n",
    "test_accuracies = []\n",
    "\n",
    "n_iterations = 100\n",
    "\n",
    "for i in range(n_iterations):\n",
    "    sgd_model.fit(X_train_scaled, y_train)\n",
    "    \n",
    "    # Predictions for training and test sets\n",
    "    y_train_pred = sgd_model.predict(X_train_scaled)\n",
    "    y_test_pred = sgd_model.predict(X_test_scaled)\n",
    "    \n",
    "    # Calculate metrics\n",
    "    y_train_proba = sgd_model.predict_proba(X_train_scaled)\n",
    "    train_loss = log_loss(y_train, y_train_proba)\n",
    "    train_acc = accuracy_score(y_train, y_train_pred)\n",
    "    test_acc = accuracy_score(y_test, y_test_pred)\n",
    "    \n",
    "    # Store metrics\n",
    "    iterations.append(i + 1)\n",
    "    train_losses.append(train_loss)\n",
    "    train_accuracies.append(train_acc)\n",
    "    test_accuracies.append(test_acc)\n",
    "    \n",
    "    if (i + 1) % 20 == 0:\n",
    "        print(f\"Iteration {i+1}: Train Loss = {train_loss:.4f}, Train Acc = {train_acc:.4f}, Test Acc = {test_acc:.4f}\")\n",
    "\n",
    "print(\"\\nTraining completed!\")"
   ]
  },
  {
   "cell_type": "markdown",
   "id": "6b329561",
   "metadata": {},
   "source": [
    "### Step 6: Custom Training Loop to Track Loss and Accuracy"
   ]
  }
 ],
 "metadata": {
  "language_info": {
   "name": "python"
  }
 },
 "nbformat": 4,
 "nbformat_minor": 5
}
